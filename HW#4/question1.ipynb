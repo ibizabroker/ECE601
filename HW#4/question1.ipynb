{
 "cells": [
  {
   "cell_type": "code",
   "execution_count": 11,
   "metadata": {},
   "outputs": [],
   "source": [
    "import numpy as np\n",
    "\n",
    "def relu(x):\n",
    "  return np.maximum(0, x)\n"
   ]
  },
  {
   "cell_type": "code",
   "execution_count": 12,
   "metadata": {},
   "outputs": [],
   "source": [
    "def sigmoid(x):\n",
    "  return 1 / (1 + np.exp(-x))"
   ]
  },
  {
   "cell_type": "code",
   "execution_count": 13,
   "metadata": {},
   "outputs": [],
   "source": [
    "def forward_pass(x1, x2):\n",
    "  bias = 1\n",
    "  \n",
    "  w_A = [2, -4, 6]\n",
    "  w_B = [1, 3, 5]\n",
    "  \n",
    "  A = relu(w_A[0] * bias + w_A[1] * x1 + w_A[2] * x2)\n",
    "  B = relu(w_B[0] * bias + w_B[1] * x1 + w_B[2] * x2)\n",
    "  \n",
    "  w_C = [-3, -2, 4]\n",
    "  \n",
    "  C = sigmoid(w_C[0] * bias + w_C[1] * A + w_C[2] * B)\n",
    "  \n",
    "  return C"
   ]
  },
  {
   "cell_type": "code",
   "execution_count": 20,
   "metadata": {},
   "outputs": [
    {
     "name": "stdout",
     "output_type": "stream",
     "text": [
      "Output of the network: 0.04742587317756678\n"
     ]
    }
   ],
   "source": [
    "x1, x2 = 0.5, -0.6\n",
    "\n",
    "output = forward_pass(x1, x2)\n",
    "print(\"Output of the network:\", output)"
   ]
  }
 ],
 "metadata": {
  "kernelspec": {
   "display_name": "venv",
   "language": "python",
   "name": "python3"
  },
  "language_info": {
   "codemirror_mode": {
    "name": "ipython",
    "version": 3
   },
   "file_extension": ".py",
   "mimetype": "text/x-python",
   "name": "python",
   "nbconvert_exporter": "python",
   "pygments_lexer": "ipython3",
   "version": "3.10.2"
  }
 },
 "nbformat": 4,
 "nbformat_minor": 2
}
